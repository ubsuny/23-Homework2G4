{
  "nbformat": 4,
  "nbformat_minor": 0,
  "metadata": {
    "colab": {
      "provenance": []
    },
    "kernelspec": {
      "name": "python3",
      "display_name": "Python 3"
    },
    "language_info": {
      "name": "python"
    }
  },
  "cells": [
    {
      "cell_type": "markdown",
      "source": [
        "#Method-1: Einstein notation implementation:\n",
        "\n"
      ],
      "metadata": {
        "id": "Vf3F67IYtfHA"
      }
    },
    {
      "cell_type": "markdown",
      "source": [
        "### Einstein sum convention\n",
        "\n",
        "The following information is copied from the Author Tim Thomay under the license [CC BY 4.0 license](https://creativecommons.org/licenses/by/4.0/)\n",
        "\n",
        "source: [Tim Thomay writings](https://github.com/ubsuny/CompPhys/blob/main/ReviewPython/EinsteinNotation.ipynb)\n",
        "\n",
        "Theoretical physicist like to invent notational conventions so that they don't have to write so much.\n",
        "One example is Einsteins sum convention which removes the $\\Sigma$ (sum) symbol from equations.\n",
        "\n",
        "> Es  ist  deshalb moglich,  ohne  die  Klarheit  zu  beeintrachtigen,  die Summenzeichen  wegzulassen.  Dafür  führen wir  die  Vorschrift ein:  Tritt ein  Index in einem  Term  eines  Ausdruckes  zweimal auf so ist über ihn  stets zu  summieren, wenn  nicht ausdrücklich  das  Gegenteil  bemerkt  ist.\n",
        "\n",
        "[Translation](https://translate.google.com/?sl=auto&tl=en&text=Es%20%20ist%20%20deshalb%20moglich%2C%20%20ohne%20%20die%20%20Klarheit%20%20zu%20%20beeintrachtigen%2C%20%20die%20Summenzeichen%20%20wegzulassen.%20%20Dafür%20%20führen%20wir%20%20die%20%20Vorschrift%20ein%3A%20%20Tritt%20ein%20%20Index%20in%20einem%20%20Term%20%20eines%20%20Ausdruckes%20%20zweimal%20auf%20so%20ist%20über%20ihn%20%20stets%20zu%20%20summieren%2C%20wenn%20%20nicht%20ausdrücklich%20%20das%20%20Gegenteil%20%20bemerkt%20%20ist.&op=translate)\n",
        "source: [Die Grundlage der allgemeinen Relativitätstheorie, A. Einstein](https://doi.org/10.1002/andp.19163540702)"
      ],
      "metadata": {
        "id": "QyX-cB2uGVgs"
      }
    },
    {
      "cell_type": "code",
      "source": [
        "# Function to find the diagonal using Einstein summation notation\n",
        "def diagonal(matrix):\n",
        "    return np.einsum(\"ii->i\", matrix)\n",
        "\n",
        "# Unit test and time measurement\n",
        "if __name__ == \"__main__\":\n",
        "    # Create a sample 3x3 matrix\n",
        "    matrix = np.array([[1, 2, 3],\n",
        "                       [4, 5, 6],\n",
        "                       [7, 8, 9]])\n",
        "\n",
        "    # Measure the execution time in microsecond\n",
        "    start_time = int(time.time()* 1_000_000)\n",
        "    diagonal_elements = diagonal(matrix)\n",
        "    end_time = int(time.time()* 1_000_000)\n",
        "\n",
        "    # Calculate the execution time in microsecond\n",
        "    ein_time = end_time - start_time\n",
        "\n",
        "    print(\"Diagonal elements:\", diagonal_elements)\n",
        "    print(\"Einstein summation execution time:\", ein_time, \"Microseconds\")"
      ],
      "metadata": {
        "colab": {
          "base_uri": "https://localhost:8080/"
        },
        "id": "OsQXDOlrzryG",
        "outputId": "527abf89-54d4-429d-8587-9989e67ab950"
      },
      "execution_count": 60,
      "outputs": [
        {
          "output_type": "stream",
          "name": "stdout",
          "text": [
            "Diagonal elements: [1 5 9]\n",
            "Einstein summation execution time: 18 Microseconds\n"
          ]
        }
      ]
    },
    {
      "cell_type": "markdown",
      "source": [
        "# Method-2: Naive Loop-Based Implementation:"
      ],
      "metadata": {
        "id": "n7M9ek0rXkoN"
      }
    },
    {
      "cell_type": "code",
      "source": [
        "import numpy as np\n",
        "import time\n",
        "\n",
        "def diagonal_elements(matrix):\n",
        "    n = len(matrix)\n",
        "    diagonal = []\n",
        "\n",
        "    # Start measuring time for the loop\n",
        "    start_time = int(time.time()* 1_000_000)\n",
        "\n",
        "    for i in range(n):\n",
        "        diagonal.append(matrix[i][i])\n",
        "\n",
        "    # End measuring time for the loop in microsecond\n",
        "    end_time = int(time.time()* 1_000_000)\n",
        "    loop_execution_time = end_time - start_time   #This calculates the total time for executing this loop\n",
        "\n",
        "    return diagonal, loop_execution_time\n",
        "\n",
        "# Example Unit Test:\n",
        "matrix = [[1,2,3],\n",
        "          [4,5,6],\n",
        "          [7,8,9]]                # Replace with your matrix\n",
        "diagonal, loop_time = diagonal_elements(matrix)\n",
        "naive_time=loop_time\n",
        "print(\"Diagonal elements:\", diagonal)\n",
        "print(\"Loop execution time:\",naive_time, \"Microseconds\")"
      ],
      "metadata": {
        "colab": {
          "base_uri": "https://localhost:8080/"
        },
        "id": "YcVKBuFiXekd",
        "outputId": "ad39eca2-4a08-49a4-ffe8-b0818de24eb3"
      },
      "execution_count": 61,
      "outputs": [
        {
          "output_type": "stream",
          "name": "stdout",
          "text": [
            "Diagonal elements: [1, 5, 9]\n",
            "Loop execution time: 2 Microseconds\n"
          ]
        }
      ]
    },
    {
      "cell_type": "markdown",
      "source": [
        "## Method-3: NumPy Implementation:"
      ],
      "metadata": {
        "id": "1pDsXRzIYkwV"
      }
    },
    {
      "cell_type": "code",
      "source": [
        "import numpy as np\n",
        "import time\n",
        "\n",
        "def diagonal_elements(matrix):\n",
        "    # Start measuring time for the NumPy operation\n",
        "    start_time = int(time.time()* 1_000_000)\n",
        "\n",
        "    diagonal = np.diag(matrix)\n",
        "\n",
        "    # End measuring time for the NumPy operation\n",
        "    end_time = int(time.time()* 1_000_000)\n",
        "    numpy_execution_time = end_time - start_time    #This calculates the total time for executing this loop\n",
        "\n",
        "    return diagonal, numpy_execution_time\n",
        "\n",
        "# Example Unit Test:\n",
        "#matrix = np.random.rand(3,3)  # Replace with your matrix\n",
        "matrix = [[1,2,3],\n",
        "          [4,5,6],\n",
        "          [7,8,9]]\n",
        "\n",
        "diagonal, numpy_time = diagonal_elements(matrix)\n",
        "print(\"Diagonal elements:\", diagonal)\n",
        "print(\"NumPy execution time:\", numpy_time,\"Microseconds\")\n"
      ],
      "metadata": {
        "colab": {
          "base_uri": "https://localhost:8080/"
        },
        "id": "BQmUGHTeYvOY",
        "outputId": "8db1db35-121a-4342-e2d2-15a5938bf592"
      },
      "execution_count": 62,
      "outputs": [
        {
          "output_type": "stream",
          "name": "stdout",
          "text": [
            "Diagonal elements: [1 5 9]\n",
            "NumPy execution time: 40 Microseconds\n"
          ]
        }
      ]
    },
    {
      "cell_type": "markdown",
      "source": [
        "# Method-4: TensorFlow Implementation (with GPU):"
      ],
      "metadata": {
        "id": "07jmr4UxZbBO"
      }
    },
    {
      "cell_type": "code",
      "source": [
        "import tensorflow as tf\n",
        "import time\n",
        "\n",
        "def diagonal_elements(matrix):\n",
        "    # Start measuring time for the TensorFlow operation\n",
        "    start_time = int(time.time()* 1_000_000)\n",
        "\n",
        "    with tf.device('/GPU:0'):\n",
        "        diagonal = tf.linalg.diag_part(matrix)\n",
        "\n",
        "    # End measuring time for the TensorFlow operation\n",
        "    end_time = int(time.time()* 1_000_000)\n",
        "    tensorflow_execution_time = end_time - start_time   #This calculates the total time for executing this loop\n",
        "\n",
        "    return diagonal.numpy(), tensorflow_execution_time\n",
        "\n",
        "# Example Unit Test:\n",
        "#matrix = tf.constant(np.random.rand(3, 3), dtype=tf.float32)  # Replace with your matrix\n",
        "matrix = [[1,2,3],\n",
        "          [4,5,6],\n",
        "          [7,8,9]]\n",
        "\n",
        "diagonal, tensor_time = diagonal_elements(matrix)\n",
        "tensor_time\n",
        "print(\"Diagonal elements:\", diagonal)\n",
        "print(\"TensorFlow execution time:\", tensor_time, \"Microseconds\")\n"
      ],
      "metadata": {
        "colab": {
          "base_uri": "https://localhost:8080/"
        },
        "id": "_-azzQqKZgip",
        "outputId": "0adc8881-2efe-4298-b8f3-9573f17bf8df"
      },
      "execution_count": 63,
      "outputs": [
        {
          "output_type": "stream",
          "name": "stdout",
          "text": [
            "Diagonal elements: [1 5 9]\n",
            "TensorFlow execution time: 499 Microseconds\n"
          ]
        }
      ]
    },
    {
      "cell_type": "markdown",
      "source": [
        "# Time consumption comparison of different implementations"
      ],
      "metadata": {
        "id": "eDwde1jEfPlJ"
      }
    },
    {
      "cell_type": "code",
      "source": [
        "import matplotlib.pyplot as plt\n",
        "\n",
        "# Create a list of element names and their values\n",
        "elements = [\"Einstein Notation\",\"Naive Loop\", \"NumPy\", \"TensorFlow\"]\n",
        "values = [ein_time, naive_time, numpy_time,tensor_time]\n",
        "\n",
        "# Create a bar chart of the element values\n",
        "plt.bar(elements, values)\n",
        "\n",
        "plt.bar(elements, values, color=[\"red\", \"yellow\", \"green\",\"black\"])\n",
        "\n",
        "\n",
        "# Add values on top of the bars\n",
        "for i, v in enumerate(values):\n",
        "    plt.text(i, v, str(v), ha='center', va='bottom')\n",
        "\n",
        "\n",
        "# Set the title, x-axis label, and y-axis label\n",
        "plt.title(\"Execution Time Comparision of different Implementations\")\n",
        "plt.xlabel(\"Methods\")\n",
        "plt.ylabel(\"Time (microsecond)\")\n",
        "\n",
        "# Show the bar chart\n",
        "plt.show()\n"
      ],
      "metadata": {
        "colab": {
          "base_uri": "https://localhost:8080/",
          "height": 472
        },
        "id": "Ha_PfpROb1Qk",
        "outputId": "9cb2d29f-4d82-439f-df59-de35b6d0d58a"
      },
      "execution_count": 64,
      "outputs": [
        {
          "output_type": "display_data",
          "data": {
            "text/plain": [
              "<Figure size 640x480 with 1 Axes>"
            ],
            "image/png": "[encoded data removed]"
          },
          "metadata": {}
        }
      ]
    }
  ]
}